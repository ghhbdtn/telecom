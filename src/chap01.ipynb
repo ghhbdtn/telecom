{
  "nbformat": 4,
  "nbformat_minor": 0,
  "metadata": {
    "colab": {
      "provenance": [],
      "authorship_tag": "ABX9TyNcFJUUn8jUqNbYEUrw3wDq",
      "include_colab_link": true
    },
    "kernelspec": {
      "name": "python3",
      "display_name": "Python 3"
    },
    "language_info": {
      "name": "python"
    }
  },
  "cells": [
    {
      "cell_type": "markdown",
      "metadata": {
        "id": "view-in-github",
        "colab_type": "text"
      },
      "source": [
        "<a href=\"https://colab.research.google.com/github/ghhbdtn/telocom/blob/main/src/chap01.ipynb\" target=\"_parent\"><img src=\"https://colab.research.google.com/assets/colab-badge.svg\" alt=\"Open In Colab\"/></a>"
      ]
    },
    {
      "cell_type": "code",
      "execution_count": 1,
      "metadata": {
        "colab": {
          "base_uri": "https://localhost:8080/"
        },
        "id": "XMldQhGC4uxV",
        "outputId": "017b7c6c-b2dd-41d7-d91a-aca5952ca85d"
      },
      "outputs": [
        {
          "output_type": "stream",
          "name": "stdout",
          "text": [
            "--2023-02-23 10:55:02--  https://github.com/AllenDowney/ThinkDSP/raw/master/code/thinkdsp.py\n",
            "Resolving github.com (github.com)... 140.82.113.4\n",
            "Connecting to github.com (github.com)|140.82.113.4|:443... connected.\n",
            "HTTP request sent, awaiting response... 302 Found\n",
            "Location: https://raw.githubusercontent.com/AllenDowney/ThinkDSP/master/code/thinkdsp.py [following]\n",
            "--2023-02-23 10:55:02--  https://raw.githubusercontent.com/AllenDowney/ThinkDSP/master/code/thinkdsp.py\n",
            "Resolving raw.githubusercontent.com (raw.githubusercontent.com)... 185.199.108.133, 185.199.109.133, 185.199.110.133, ...\n",
            "Connecting to raw.githubusercontent.com (raw.githubusercontent.com)|185.199.108.133|:443... connected.\n",
            "HTTP request sent, awaiting response... 200 OK\n",
            "Length: 48687 (48K) [text/plain]\n",
            "Saving to: ‘thinkdsp.py’\n",
            "\n",
            "thinkdsp.py         100%[===================>]  47.55K  --.-KB/s    in 0.01s   \n",
            "\n",
            "2023-02-23 10:55:02 (4.59 MB/s) - ‘thinkdsp.py’ saved [48687/48687]\n",
            "\n"
          ]
        }
      ],
      "source": [
        "# Get thinkdsp.py\n",
        "\n",
        "import os\n",
        "\n",
        "if not os.path.exists('thinkdsp.py'):\n",
        "    !wget https://github.com/AllenDowney/ThinkDSP/raw/master/code/thinkdsp.py"
      ]
    },
    {
      "cell_type": "code",
      "source": [],
      "metadata": {
        "id": "MoQkUWRK6c_5"
      },
      "execution_count": null,
      "outputs": []
    }
  ]
}